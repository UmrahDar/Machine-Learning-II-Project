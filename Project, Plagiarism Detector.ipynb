{
 "cells": [
  {
   "cell_type": "code",
   "execution_count": 1,
   "metadata": {},
   "outputs": [],
   "source": [
    "# Import the requird modules\n",
    "# App's dependencies\n",
    "from dotenv import load_dotenv\n",
    "from flask import Flask\n",
    "from flask import render_template\n",
    "from flask import request\n",
    "from flask import url_for\n",
    "import json\n",
    "import os\n",
    "import pandas as pd\n",
    "import pinecone\n",
    "import re\n",
    "import requests\n",
    "from sentence_transformers import SentenceTransformer\n",
    "from statistics import mean\n",
    "import swifter"
   ]
  },
  {
   "cell_type": "code",
   "execution_count": 2,
   "metadata": {
    "scrolled": true
   },
   "outputs": [
    {
     "name": "stdout",
     "output_type": "stream",
     "text": [
      "Requirement already up-to-date: pinecone-client in c:\\users\\umrah\\anaconda3\\lib\\site-packages (2.0.13)\n",
      "Requirement already satisfied, skipping upgrade: python-dateutil>=2.5.3 in c:\\users\\umrah\\anaconda3\\lib\\site-packages (from pinecone-client) (2.8.1)\n",
      "Requirement already satisfied, skipping upgrade: loguru>=0.5.0 in c:\\users\\umrah\\anaconda3\\lib\\site-packages (from pinecone-client) (0.6.0)\n",
      "Requirement already satisfied, skipping upgrade: pyyaml>=5.4 in c:\\users\\umrah\\anaconda3\\lib\\site-packages (from pinecone-client) (6.0)\n",
      "Requirement already satisfied, skipping upgrade: dnspython>=2.0.0 in c:\\users\\umrah\\anaconda3\\lib\\site-packages (from pinecone-client) (2.2.1)\n",
      "Requirement already satisfied, skipping upgrade: urllib3>=1.21.1 in c:\\users\\umrah\\anaconda3\\lib\\site-packages (from pinecone-client) (1.25.11)\n",
      "Requirement already satisfied, skipping upgrade: typing-extensions>=3.7.4 in c:\\users\\umrah\\anaconda3\\lib\\site-packages (from pinecone-client) (4.4.0)\n",
      "Requirement already satisfied, skipping upgrade: requests>=2.19.0 in c:\\users\\umrah\\anaconda3\\lib\\site-packages (from pinecone-client) (2.24.0)\n",
      "Requirement already satisfied, skipping upgrade: six>=1.5 in c:\\users\\umrah\\anaconda3\\lib\\site-packages (from python-dateutil>=2.5.3->pinecone-client) (1.15.0)\n",
      "Requirement already satisfied, skipping upgrade: win32-setctime>=1.0.0; sys_platform == \"win32\" in c:\\users\\umrah\\anaconda3\\lib\\site-packages (from loguru>=0.5.0->pinecone-client) (1.1.0)\n",
      "Requirement already satisfied, skipping upgrade: colorama>=0.3.4; sys_platform == \"win32\" in c:\\users\\umrah\\anaconda3\\lib\\site-packages (from loguru>=0.5.0->pinecone-client) (0.4.4)\n",
      "Requirement already satisfied, skipping upgrade: certifi>=2017.4.17 in c:\\users\\umrah\\anaconda3\\lib\\site-packages (from requests>=2.19.0->pinecone-client) (2020.6.20)\n",
      "Requirement already satisfied, skipping upgrade: chardet<4,>=3.0.2 in c:\\users\\umrah\\anaconda3\\lib\\site-packages (from requests>=2.19.0->pinecone-client) (3.0.4)\n",
      "Requirement already satisfied, skipping upgrade: idna<3,>=2.5 in c:\\users\\umrah\\anaconda3\\lib\\site-packages (from requests>=2.19.0->pinecone-client) (2.10)\n"
     ]
    }
   ],
   "source": [
    "\n",
    "!pip install -U pinecone-client"
   ]
  },
  {
   "cell_type": "code",
   "execution_count": 3,
   "metadata": {},
   "outputs": [
    {
     "name": "stdout",
     "output_type": "stream",
     "text": [
      "Collecting PyYAML\n",
      "  Using cached PyYAML-6.0-cp38-cp38-win_amd64.whl (155 kB)\n",
      "Installing collected packages: PyYAML\n",
      "Note: you may need to restart the kernel to use updated packages.\n"
     ]
    },
    {
     "name": "stderr",
     "output_type": "stream",
     "text": [
      "ERROR: Could not install packages due to an EnvironmentError: [WinError 5] Access is denied: 'C:\\\\Users\\\\umrah\\\\anaconda3\\\\Lib\\\\site-packages\\\\yaml\\\\_yaml.cp38-win_amd64.pyd'\n",
      "Consider using the `--user` option or check the permissions.\n",
      "\n"
     ]
    }
   ],
   "source": [
    "pip install --ignore-installed PyYAML"
   ]
  },
  {
   "cell_type": "code",
   "execution_count": null,
   "metadata": {},
   "outputs": [],
   "source": [
    "conda install -c conda-forge swifter"
   ]
  },
  {
   "cell_type": "code",
   "execution_count": 5,
   "metadata": {},
   "outputs": [],
   "source": [
    "# Boilerplate code to  tell Flask the name of the app\n",
    "app = Flask(__name__)"
   ]
  },
  {
   "cell_type": "code",
   "execution_count": 6,
   "metadata": {},
   "outputs": [],
   "source": [
    "# Define constants that would be used in the app\n",
    "PINECONE_INDEX_NAME = \"plagiarism-checker\" # Pinecone index\n",
    "DATA_FILE = \"articles1.csv\" # File name of the dataset\n",
    "NROWS = 20000 # Number of rows to read from the CSV file"
   ]
  },
  {
   "cell_type": "code",
   "execution_count": 28,
   "metadata": {},
   "outputs": [],
   "source": [
    "# Use initialize_pinecone method and the API key is used to initialise Pinecone\n",
    "def initialize_pinecone():\n",
    "    PINECONE_API_KEY = '51d9d229-57a8-445b-880e-6613be475afc'\n",
    "    pinecone.init(api_key=PINECONE_API_KEY)"
   ]
  },
  {
   "cell_type": "code",
   "execution_count": 8,
   "metadata": {},
   "outputs": [],
   "source": [
    "# The delete_existing_pinecone_index method searches Pinecone instance for indexes with \n",
    "# the same name as the one that's being used(“plagiarism-checker”). If an existing index is found, it is deleted.\n",
    "def delete_existing_pinecone_index():\n",
    "    if PINECONE_INDEX_NAME in pinecone.list_indexes():\n",
    "        pinecone.delete_index(PINECONE_INDEX_NAME)"
   ]
  },
  {
   "cell_type": "code",
   "execution_count": 13,
   "metadata": {},
   "outputs": [],
   "source": [
    "#  The create_pinecone_index method creates a new index using the name we chose (“plagiarism-checker”), \n",
    "# the “cosine” proximity metric, and only one shard.\n",
    "def create_pinecone_index():\n",
    "    pinecone.create_index(name=PINECONE_INDEX_NAME, metric=\"cosine\", shards=1)\n",
    "    pinecone_index = pinecone.Index(name=PINECONE_INDEX_NAME)\n",
    "    return pinecone_index\n"
   ]
  },
  {
   "cell_type": "code",
   "execution_count": 14,
   "metadata": {},
   "outputs": [],
   "source": [
    "# The our create_model method uses the sentence_transformers library to work with the Average Word Embeddings Model. We’ll \n",
    "# encode the vector embeddings using this model later\n",
    "def create_model():\n",
    "    model = SentenceTransformer('average_word_embeddings_komninos')\n",
    "\n",
    "    return model"
   ]
  },
  {
   "cell_type": "code",
   "execution_count": 20,
   "metadata": {},
   "outputs": [],
   "source": [
    "# The prepare_data method adjusts the dataset by renaming the first \"id\" column and dropping the \"date\" column\n",
    "# It then combines the article title with the article content into a single field.\n",
    "# This combined field would be used when creating vector embeddings\n",
    "def prepare_data(data):\n",
    "    # rename id column and remove unnecessary columns\n",
    "    data.rename(columns={\"Unnamed: 0\": \"article_id\"}, inplace = True)\n",
    "    data.drop(columns=['date'], inplace = True)\n",
    "     # combine the article title and content into a single field\n",
    "    data['content'] = data['content'].fillna('')\n",
    "    data['content'] = data.content.swifter.apply(lambda x: ' '.join(re.split(r'(?<=[.:;])\\s', x)))\n",
    "    data['title_and_content'] = data['title'] + ' ' + data['content']\n",
    "    # create a vector embedding based on title and article content\n",
    "    encoded_articles = model.encode(data['title_and_content'], show_progress_bar=True)\n",
    "    data['article_vector'] = pd.Series(encoded_articles.tolist())\n",
    "\n",
    "    return data"
   ]
  },
  {
   "cell_type": "code",
   "execution_count": 21,
   "metadata": {},
   "outputs": [],
   "source": [
    "# The upload_items method creates a vector embedding for each article by encoding it using our model\n",
    "# The vector embeddings are then inserted into the Pinecone index\n",
    "def upload_items(data):\n",
    "    items_to_upload = [(row.id, row.article_vector) for i, row in data.iterrows()]\n",
    "    pinecone_index.upsert(items=items_to_upload)"
   ]
  },
  {
   "cell_type": "code",
   "execution_count": 22,
   "metadata": {},
   "outputs": [],
   "source": [
    "# The process_file method reads the CSV file and then calls the prepare_data and upload_items methods on it\n",
    "def process_file(filename):\n",
    "    data = pd.read_csv(filename, nrows=NROWS)\n",
    "    data = prepare_data(data)\n",
    "    upload_items(data)\n",
    "    pinecone_index.info()\n",
    "\n",
    "    return data"
   ]
  },
  {
   "cell_type": "code",
   "execution_count": 23,
   "metadata": {},
   "outputs": [],
   "source": [
    "# The map_titles and map_publications methods create some dictionaries of the titles and and publications names to make it easier to find articles by IDs later \n",
    "def map_titles(data):\n",
    "    return dict(zip(uploaded_data.id, uploaded_data.title))\n",
    "\n",
    "def map_publications(data):\n",
    "    return dict(zip(uploaded_data.id, uploaded_data.publication))\n"
   ]
  },
  {
   "cell_type": "code",
   "execution_count": 24,
   "metadata": {},
   "outputs": [],
   "source": [
    "# The query_pinecone method takes the user's article content input, converts it into a vector embedding,and then queries the Pinecone index to find similar articles\n",
    "# This method is called when the /api/search endpoint is hit, which occurs any time the user submits a new search query\n",
    "def query_pinecone(originalContent):\n",
    "    query_content = str(originalContent)\n",
    "    query_vectors = [model.encode(query_content)]\n",
    "\n",
    "    query_results = pinecone_index.query(queries=query_vectors, top_k=10)\n",
    "    res = query_results[0]\n",
    "\n",
    "    results_list = []\n",
    "\n",
    "    for idx, _id in enumerate(res.ids):\n",
    "        results_list.append({\n",
    "            \"id\": _id,\n",
    "            \"title\": titles_mapped[int(_id)],\n",
    "            \"publication\": publications_mapped[int(_id)],\n",
    "            \"score\": res.scores[idx],\n",
    "        })\n",
    "\n",
    "    return json.dumps(results_list)"
   ]
  },
  {
   "cell_type": "code",
   "execution_count": 29,
   "metadata": {},
   "outputs": [
    {
     "data": {
      "application/vnd.jupyter.widget-view+json": {
       "model_id": "f3bfeb981a0f466cba0980d103686fbe",
       "version_major": 2,
       "version_minor": 0
      },
      "text/plain": [
       "HBox(children=(HTML(value='Downloading'), FloatProgress(value=0.0, max=690.0), HTML(value='')))"
      ]
     },
     "metadata": {},
     "output_type": "display_data"
    },
    {
     "name": "stdout",
     "output_type": "stream",
     "text": [
      "\n"
     ]
    },
    {
     "data": {
      "application/vnd.jupyter.widget-view+json": {
       "model_id": "2382487e41704411b51217ae85da6cb8",
       "version_major": 2,
       "version_minor": 0
      },
      "text/plain": [
       "HBox(children=(HTML(value='Downloading'), FloatProgress(value=0.0, max=266766827.0), HTML(value='')))"
      ]
     },
     "metadata": {},
     "output_type": "display_data"
    },
    {
     "name": "stdout",
     "output_type": "stream",
     "text": [
      "\n"
     ]
    },
    {
     "data": {
      "application/vnd.jupyter.widget-view+json": {
       "model_id": "8a92557c0ef84040b8a061f06e6ad88d",
       "version_major": 2,
       "version_minor": 0
      },
      "text/plain": [
       "HBox(children=(HTML(value='Downloading'), FloatProgress(value=0.0, max=2589750.0), HTML(value='')))"
      ]
     },
     "metadata": {},
     "output_type": "display_data"
    },
    {
     "name": "stdout",
     "output_type": "stream",
     "text": [
      "\n"
     ]
    },
    {
     "data": {
      "application/vnd.jupyter.widget-view+json": {
       "model_id": "80d47f7a070644489b80f741fe41a35f",
       "version_major": 2,
       "version_minor": 0
      },
      "text/plain": [
       "HBox(children=(HTML(value='Downloading'), FloatProgress(value=0.0, max=164.0), HTML(value='')))"
      ]
     },
     "metadata": {},
     "output_type": "display_data"
    },
    {
     "name": "stdout",
     "output_type": "stream",
     "text": [
      "\n"
     ]
    },
    {
     "data": {
      "application/vnd.jupyter.widget-view+json": {
       "model_id": "f41abe7af02840b3bda9b24b66069d3f",
       "version_major": 2,
       "version_minor": 0
      },
      "text/plain": [
       "HBox(children=(HTML(value='Downloading'), FloatProgress(value=0.0, max=190.0), HTML(value='')))"
      ]
     },
     "metadata": {},
     "output_type": "display_data"
    },
    {
     "name": "stdout",
     "output_type": "stream",
     "text": [
      "\n"
     ]
    },
    {
     "data": {
      "application/vnd.jupyter.widget-view+json": {
       "model_id": "71735235514641fb95dc7f8f818122ed",
       "version_major": 2,
       "version_minor": 0
      },
      "text/plain": [
       "HBox(children=(HTML(value='Downloading'), FloatProgress(value=0.0, max=2135.0), HTML(value='')))"
      ]
     },
     "metadata": {},
     "output_type": "display_data"
    },
    {
     "name": "stdout",
     "output_type": "stream",
     "text": [
      "\n"
     ]
    },
    {
     "data": {
      "application/vnd.jupyter.widget-view+json": {
       "model_id": "4608a3c8d16248039bf09b2e33b473a0",
       "version_major": 2,
       "version_minor": 0
      },
      "text/plain": [
       "HBox(children=(HTML(value='Downloading'), FloatProgress(value=0.0, max=122.0), HTML(value='')))"
      ]
     },
     "metadata": {},
     "output_type": "display_data"
    },
    {
     "name": "stdout",
     "output_type": "stream",
     "text": [
      "\n"
     ]
    },
    {
     "data": {
      "application/vnd.jupyter.widget-view+json": {
       "model_id": "cabc28ea3412401691f0f9f7eb9322e3",
       "version_major": 2,
       "version_minor": 0
      },
      "text/plain": [
       "HBox(children=(HTML(value='Downloading'), FloatProgress(value=0.0, max=248.0), HTML(value='')))"
      ]
     },
     "metadata": {},
     "output_type": "display_data"
    },
    {
     "name": "stdout",
     "output_type": "stream",
     "text": [
      "\n"
     ]
    },
    {
     "data": {
      "application/vnd.jupyter.widget-view+json": {
       "model_id": "1af463fe1f9043f49ee85669ab3c46f8",
       "version_major": 2,
       "version_minor": 0
      },
      "text/plain": [
       "HBox(children=(HTML(value='Pandas Apply'), FloatProgress(value=0.0, max=20000.0), HTML(value='')))"
      ]
     },
     "metadata": {},
     "output_type": "display_data"
    },
    {
     "name": "stdout",
     "output_type": "stream",
     "text": [
      "\n"
     ]
    },
    {
     "ename": "AttributeError",
     "evalue": "'NoneType' object has no attribute 'encode'",
     "output_type": "error",
     "traceback": [
      "\u001b[1;31m---------------------------------------------------------------------------\u001b[0m",
      "\u001b[1;31mAttributeError\u001b[0m                            Traceback (most recent call last)",
      "\u001b[1;32m<ipython-input-29-1e855ae07a20>\u001b[0m in \u001b[0;36m<module>\u001b[1;34m\u001b[0m\n\u001b[0;32m      4\u001b[0m \u001b[0mdelete_existing_pinecone_index\u001b[0m\u001b[1;33m(\u001b[0m\u001b[1;33m)\u001b[0m\u001b[1;33m\u001b[0m\u001b[1;33m\u001b[0m\u001b[0m\n\u001b[0;32m      5\u001b[0m \u001b[0mmodel\u001b[0m \u001b[1;33m=\u001b[0m \u001b[0mcreate_model\u001b[0m\u001b[1;33m(\u001b[0m\u001b[1;33m)\u001b[0m\u001b[1;33m\u001b[0m\u001b[1;33m\u001b[0m\u001b[0m\n\u001b[1;32m----> 6\u001b[1;33m \u001b[0muploaded_data\u001b[0m \u001b[1;33m=\u001b[0m \u001b[0mprocess_file\u001b[0m\u001b[1;33m(\u001b[0m\u001b[0mfilename\u001b[0m\u001b[1;33m=\u001b[0m\u001b[0mDATA_FILE\u001b[0m\u001b[1;33m)\u001b[0m\u001b[1;33m\u001b[0m\u001b[1;33m\u001b[0m\u001b[0m\n\u001b[0m\u001b[0;32m      7\u001b[0m \u001b[0mtitles_mapped\u001b[0m \u001b[1;33m=\u001b[0m \u001b[0mmap_titles\u001b[0m\u001b[1;33m(\u001b[0m\u001b[0muploaded_data\u001b[0m\u001b[1;33m)\u001b[0m\u001b[1;33m\u001b[0m\u001b[1;33m\u001b[0m\u001b[0m\n\u001b[0;32m      8\u001b[0m \u001b[0mpublications_mapped\u001b[0m \u001b[1;33m=\u001b[0m \u001b[0mmap_publications\u001b[0m\u001b[1;33m(\u001b[0m\u001b[0muploaded_data\u001b[0m\u001b[1;33m)\u001b[0m\u001b[1;33m\u001b[0m\u001b[1;33m\u001b[0m\u001b[0m\n",
      "\u001b[1;32m<ipython-input-22-212114daf379>\u001b[0m in \u001b[0;36mprocess_file\u001b[1;34m(filename)\u001b[0m\n\u001b[0;32m      2\u001b[0m \u001b[1;32mdef\u001b[0m \u001b[0mprocess_file\u001b[0m\u001b[1;33m(\u001b[0m\u001b[0mfilename\u001b[0m\u001b[1;33m)\u001b[0m\u001b[1;33m:\u001b[0m\u001b[1;33m\u001b[0m\u001b[1;33m\u001b[0m\u001b[0m\n\u001b[0;32m      3\u001b[0m     \u001b[0mdata\u001b[0m \u001b[1;33m=\u001b[0m \u001b[0mpd\u001b[0m\u001b[1;33m.\u001b[0m\u001b[0mread_csv\u001b[0m\u001b[1;33m(\u001b[0m\u001b[0mfilename\u001b[0m\u001b[1;33m,\u001b[0m \u001b[0mnrows\u001b[0m\u001b[1;33m=\u001b[0m\u001b[0mNROWS\u001b[0m\u001b[1;33m)\u001b[0m\u001b[1;33m\u001b[0m\u001b[1;33m\u001b[0m\u001b[0m\n\u001b[1;32m----> 4\u001b[1;33m     \u001b[0mdata\u001b[0m \u001b[1;33m=\u001b[0m \u001b[0mprepare_data\u001b[0m\u001b[1;33m(\u001b[0m\u001b[0mdata\u001b[0m\u001b[1;33m)\u001b[0m\u001b[1;33m\u001b[0m\u001b[1;33m\u001b[0m\u001b[0m\n\u001b[0m\u001b[0;32m      5\u001b[0m     \u001b[0mupload_items\u001b[0m\u001b[1;33m(\u001b[0m\u001b[0mdata\u001b[0m\u001b[1;33m)\u001b[0m\u001b[1;33m\u001b[0m\u001b[1;33m\u001b[0m\u001b[0m\n\u001b[0;32m      6\u001b[0m     \u001b[0mpinecone_index\u001b[0m\u001b[1;33m.\u001b[0m\u001b[0minfo\u001b[0m\u001b[1;33m(\u001b[0m\u001b[1;33m)\u001b[0m\u001b[1;33m\u001b[0m\u001b[1;33m\u001b[0m\u001b[0m\n",
      "\u001b[1;32m<ipython-input-20-6e264067ac55>\u001b[0m in \u001b[0;36mprepare_data\u001b[1;34m(data)\u001b[0m\n\u001b[0;32m     11\u001b[0m     \u001b[0mdata\u001b[0m\u001b[1;33m[\u001b[0m\u001b[1;34m'title_and_content'\u001b[0m\u001b[1;33m]\u001b[0m \u001b[1;33m=\u001b[0m \u001b[0mdata\u001b[0m\u001b[1;33m[\u001b[0m\u001b[1;34m'title'\u001b[0m\u001b[1;33m]\u001b[0m \u001b[1;33m+\u001b[0m \u001b[1;34m' '\u001b[0m \u001b[1;33m+\u001b[0m \u001b[0mdata\u001b[0m\u001b[1;33m[\u001b[0m\u001b[1;34m'content'\u001b[0m\u001b[1;33m]\u001b[0m\u001b[1;33m\u001b[0m\u001b[1;33m\u001b[0m\u001b[0m\n\u001b[0;32m     12\u001b[0m     \u001b[1;31m# create a vector embedding based on title and article content\u001b[0m\u001b[1;33m\u001b[0m\u001b[1;33m\u001b[0m\u001b[1;33m\u001b[0m\u001b[0m\n\u001b[1;32m---> 13\u001b[1;33m     \u001b[0mencoded_articles\u001b[0m \u001b[1;33m=\u001b[0m \u001b[0mmodel\u001b[0m\u001b[1;33m.\u001b[0m\u001b[0mencode\u001b[0m\u001b[1;33m(\u001b[0m\u001b[0mdata\u001b[0m\u001b[1;33m[\u001b[0m\u001b[1;34m'title_and_content'\u001b[0m\u001b[1;33m]\u001b[0m\u001b[1;33m,\u001b[0m \u001b[0mshow_progress_bar\u001b[0m\u001b[1;33m=\u001b[0m\u001b[1;32mTrue\u001b[0m\u001b[1;33m)\u001b[0m\u001b[1;33m\u001b[0m\u001b[1;33m\u001b[0m\u001b[0m\n\u001b[0m\u001b[0;32m     14\u001b[0m     \u001b[0mdata\u001b[0m\u001b[1;33m[\u001b[0m\u001b[1;34m'article_vector'\u001b[0m\u001b[1;33m]\u001b[0m \u001b[1;33m=\u001b[0m \u001b[0mpd\u001b[0m\u001b[1;33m.\u001b[0m\u001b[0mSeries\u001b[0m\u001b[1;33m(\u001b[0m\u001b[0mencoded_articles\u001b[0m\u001b[1;33m.\u001b[0m\u001b[0mtolist\u001b[0m\u001b[1;33m(\u001b[0m\u001b[1;33m)\u001b[0m\u001b[1;33m)\u001b[0m\u001b[1;33m\u001b[0m\u001b[1;33m\u001b[0m\u001b[0m\n\u001b[0;32m     15\u001b[0m \u001b[1;33m\u001b[0m\u001b[0m\n",
      "\u001b[1;31mAttributeError\u001b[0m: 'NoneType' object has no attribute 'encode'"
     ]
    }
   ],
   "source": [
    "# Each of the methods described so far are called when the backend app is started\n",
    "# This would prepare for the final step of actually querying the Pinecone index based on user input\n",
    "initialize_pinecone()\n",
    "delete_existing_pinecone_index()\n",
    "model = create_model()\n",
    "uploaded_data = process_file(filename=DATA_FILE)\n",
    "titles_mapped = map_titles(uploaded_data)\n",
    "publications_mapped = map_publications(uploaded_data)"
   ]
  },
  {
   "cell_type": "code",
   "execution_count": null,
   "metadata": {},
   "outputs": [],
   "source": []
  }
 ],
 "metadata": {
  "kernelspec": {
   "display_name": "Python 3",
   "language": "python",
   "name": "python3"
  },
  "language_info": {
   "codemirror_mode": {
    "name": "ipython",
    "version": 3
   },
   "file_extension": ".py",
   "mimetype": "text/x-python",
   "name": "python",
   "nbconvert_exporter": "python",
   "pygments_lexer": "ipython3",
   "version": "3.8.5"
  }
 },
 "nbformat": 4,
 "nbformat_minor": 4
}
